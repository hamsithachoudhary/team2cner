{
 "cells": [
  {
   "cell_type": "code",
   "execution_count": 4,
   "id": "c1bc24cb",
   "metadata": {},
   "outputs": [
    {
     "name": "stdout",
     "output_type": "stream",
     "text": [
      "The average accuracy is: 0.7701461442103152\n"
     ]
    }
   ],
   "source": [
    "import pandas as pd\n",
    "\n",
    "def process_csv(input_file, output_file):\n",
    "    try:\n",
    "        df = pd.read_csv(input_file)\n",
    "    \n",
    "        df = df[df['Ground_Truth_Entities'] != '[]']\n",
    "        \n",
    "        accuracy_avg = df['Accuracy'].mean()\n",
    "        \n",
    "        df.to_csv(output_file, index=False)\n",
    "        \n",
    "        return accuracy_avg\n",
    "    \n",
    "    except KeyError as e:\n",
    "        print(f\"Error: {e}\")\n",
    "        return None\n",
    "\n",
    "input_file = '/Users/shreeya/Desktop/results (3).csv'  \n",
    "output_file = 'output.csv'  \n",
    "\n",
    "average_accuracy = process_csv(input_file, output_file)\n",
    "if average_accuracy is not None:\n",
    "    print(f\"The average accuracy is: {average_accuracy}\")\n"
   ]
  },
  {
   "cell_type": "code",
   "execution_count": null,
   "id": "f8d2ecd6",
   "metadata": {},
   "outputs": [],
   "source": []
  }
 ],
 "metadata": {
  "kernelspec": {
   "display_name": "Python 3 (ipykernel)",
   "language": "python",
   "name": "python3"
  },
  "language_info": {
   "codemirror_mode": {
    "name": "ipython",
    "version": 3
   },
   "file_extension": ".py",
   "mimetype": "text/x-python",
   "name": "python",
   "nbconvert_exporter": "python",
   "pygments_lexer": "ipython3",
   "version": "3.11.5"
  }
 },
 "nbformat": 4,
 "nbformat_minor": 5
}
